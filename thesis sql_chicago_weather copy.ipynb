{
 "cells": [
  {
   "cell_type": "code",
   "execution_count": 4,
   "metadata": {},
   "outputs": [],
   "source": [
    "from sqlalchemy import create_engine\n",
    "from sqlalchemy import text\n",
    "from sqlalchemy.orm import Session\n",
    "from sqlalchemy import MetaData\n",
    "from sqlalchemy import ForeignKey\n",
    "from sqlalchemy.orm import DeclarativeBase\n",
    "from sqlalchemy import insert\n",
    "from sqlalchemy import select\n",
    "from typing import List\n",
    "from typing import Optional\n",
    "from sqlalchemy.orm import Mapped\n",
    "from sqlalchemy.orm import mapped_column\n",
    "from sqlalchemy.orm import relationship\n",
    "import pandas as pd\n",
    "from sqlalchemy import create_engine, Table, Column, Integer,Float, String, MetaData\n",
    "from sqlalchemy.orm import Session\n",
    "import sqlite3\n",
    "import csv\n"
   ]
  },
  {
   "cell_type": "code",
   "execution_count": 13,
   "metadata": {},
   "outputs": [],
   "source": [
    "# Connect to the SQLite database\n",
    "conn = sqlite3.connect('C://Study//CSE 4000//New folder//Thesis//dataset//New folder//weather.chicago.db')\n",
    "cursor = conn.cursor()\n"
   ]
  },
  {
   "cell_type": "code",
   "execution_count": 15,
   "metadata": {},
   "outputs": [],
   "source": [
    "# Load data using Pandas (replace 'your_data.csv' with your dataset file)\n",
    "data = pd.read_csv('C://Study//CSE 4000//New folder//Thesis//dataset//weather_data_chicago_2004_2023.csv')"
   ]
  },
  {
   "cell_type": "code",
   "execution_count": 24,
   "metadata": {},
   "outputs": [
    {
     "ename": "OperationalError",
     "evalue": "unrecognized token: \":\"",
     "output_type": "error",
     "traceback": [
      "\u001b[1;31m---------------------------------------------------------------------------\u001b[0m",
      "\u001b[1;31mOperationalError\u001b[0m                          Traceback (most recent call last)",
      "\u001b[1;32mc:\\Study\\CSE 4000\\New folder\\Thesis\\dataset\\New folder\\thesis sql_chicago_weather copy.ipynb Cell 4\u001b[0m line \u001b[0;36m7\n\u001b[0;32m      <a href='vscode-notebook-cell:/c%3A/Study/CSE%204000/New%20folder/Thesis/dataset/New%20folder/thesis%20sql_chicago_weather%20copy.ipynb#W5sZmlsZQ%3D%3D?line=3'>4</a>\u001b[0m \u001b[39m# Create the table with the specified columns\u001b[39;00m\n\u001b[0;32m      <a href='vscode-notebook-cell:/c%3A/Study/CSE%204000/New%20folder/Thesis/dataset/New%20folder/thesis%20sql_chicago_weather%20copy.ipynb#W5sZmlsZQ%3D%3D?line=5'>6</a>\u001b[0m create_table_sql \u001b[39m=\u001b[39m \u001b[39mf\u001b[39m\u001b[39m\"\u001b[39m\u001b[39mCREATE TABLE IF NOT EXISTS WeatherChicagoTable (\u001b[39m\u001b[39m{\u001b[39;00m\u001b[39m'\u001b[39m\u001b[39m, \u001b[39m\u001b[39m'\u001b[39m\u001b[39m.\u001b[39mjoin(columns_to_insert)\u001b[39m}\u001b[39;00m\u001b[39m)\u001b[39m\u001b[39m\"\u001b[39m\n\u001b[1;32m----> <a href='vscode-notebook-cell:/c%3A/Study/CSE%204000/New%20folder/Thesis/dataset/New%20folder/thesis%20sql_chicago_weather%20copy.ipynb#W5sZmlsZQ%3D%3D?line=6'>7</a>\u001b[0m cursor\u001b[39m.\u001b[39mexecute(create_table_sql)\n\u001b[0;32m      <a href='vscode-notebook-cell:/c%3A/Study/CSE%204000/New%20folder/Thesis/dataset/New%20folder/thesis%20sql_chicago_weather%20copy.ipynb#W5sZmlsZQ%3D%3D?line=7'>8</a>\u001b[0m conn\u001b[39m.\u001b[39mcommit()\n",
      "\u001b[1;31mOperationalError\u001b[0m: unrecognized token: \":\""
     ]
    }
   ],
   "source": [
    "# Specify the columns you want to insert\n",
    "columns_to_insert = data.columns.tolist()\n",
    "\n",
    "# Create the table with the specified columns\n",
    "\n",
    "create_table_sql = f\"CREATE TABLE IF NOT EXISTS WeatherChicagoTable ({', '.join(columns_to_insert)})\"\n",
    "cursor.execute(create_table_sql)\n",
    "conn.commit()\n"
   ]
  }
 ],
 "metadata": {
  "kernelspec": {
   "display_name": "base",
   "language": "python",
   "name": "python3"
  },
  "language_info": {
   "codemirror_mode": {
    "name": "ipython",
    "version": 3
   },
   "file_extension": ".py",
   "mimetype": "text/x-python",
   "name": "python",
   "nbconvert_exporter": "python",
   "pygments_lexer": "ipython3",
   "version": "3.11.5"
  }
 },
 "nbformat": 4,
 "nbformat_minor": 2
}

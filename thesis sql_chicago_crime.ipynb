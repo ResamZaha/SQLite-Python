{
 "cells": [
  {
   "cell_type": "code",
   "execution_count": 10,
   "metadata": {},
   "outputs": [
    {
     "name": "stdout",
     "output_type": "stream",
     "text": [
      "ekhane asi1\n"
     ]
    },
    {
     "name": "stderr",
     "output_type": "stream",
     "text": [
      "C:\\Users\\Resam Zaha\\AppData\\Local\\Temp\\ipykernel_13024\\858761720.py:9: MovedIn20Warning: The ``declarative_base()`` function is now available as sqlalchemy.orm.declarative_base(). (deprecated since: 2.0) (Background on SQLAlchemy 2.0 at: https://sqlalche.me/e/b8d9)\n",
      "  Base = declarative_base()\n"
     ]
    }
   ],
   "source": [
    "import time\n",
    "import pandas as pd\n",
    "from sqlalchemy.ext.declarative import declarative_base\n",
    "from sqlalchemy import Column, Integer, String, create_engine, Float\n",
    "from sqlalchemy.orm import scoped_session, sessionmaker\n",
    "from sqlalchemy import Table\n",
    "import os\n",
    "\n",
    "Base = declarative_base()\n",
    "DBSession = scoped_session(sessionmaker())\n",
    "#engine = None\n",
    "print(\"ekhane asi1\")\n",
    "\n",
    "def init_sqlalchemy(dbname='sqlite:///chicago.eimu.db'):\n",
    "    global engine\n",
    "    engine = create_engine(dbname, echo=False)\n",
    "    DBSession.remove()\n",
    "    DBSession.configure(bind=engine, autoflush=False, expire_on_commit=False)\n",
    "    Base.metadata.drop_all(engine)\n",
    "    Base.metadata.create_all(engine)\n",
    "    print(\"ekhane asi2\")\n",
    "\n",
    "def load_data_from_csv(file_path):\n",
    "    data = pd.read_csv(file_path)\n",
    "    print(\"ekhane asi3\")\n",
    "    return data\n",
    "\n",
    "def create_table_from_csv(file_path):\n",
    "    data = load_data_from_csv(file_path)\n",
    "    metadata = Base.metadata\n",
    "    print('hello')\n",
    "    table_name = \"CrimeEimuTable\"  # Specify the table name\n",
    "    CrimeEimuTable = Table(\n",
    "        table_name,\n",
    "        metadata,\n",
    "        Column('IDbySQL', Integer, primary_key=True)\n",
    "    )\n",
    "\n",
    "    for column_name, dtype in data.dtypes.items():\n",
    "        if dtype == 'int64':\n",
    "            column = Column(column_name, Integer)\n",
    "        elif dtype == 'float64':\n",
    "            column = Column(column_name, Float)\n",
    "        else:\n",
    "            column = Column(column_name, String)\n",
    "        CrimeEimuTable.append_column(column)\n",
    "\n",
    "    metadata.create_all(engine)\n",
    "    print(\"ekhane asi4\")\n",
    "    return CrimeEimuTable\n",
    "\n",
    "def bulk_insert_data(table, data):\n",
    "    DBSession.bulk_insert_mappings(table, data)\n",
    "    DBSession.commit()\n",
    "    print(\"ekhane asi5\")\n"
   ]
  },
  {
   "cell_type": "code",
   "execution_count": 11,
   "metadata": {},
   "outputs": [
    {
     "name": "stdout",
     "output_type": "stream",
     "text": [
      "ekhane asi2\n",
      "ekhane asi6\n"
     ]
    }
   ],
   "source": [
    "\n",
    "init_sqlalchemy()\n",
    "\n",
    "# Load data from CSV (replace 'your_data.csv' with your dataset file)\n",
    "csv_file_path = 'C://Study//CSE 4000//New folder//Thesis//dataset//New folder//20weather_data_sf_2004_2023.csv'\n",
    "print(\"ekhane asi6\")\n",
    "# Split the CSV into 5 parts\n",
    "chunk_size = pd.read_csv(csv_file_path, chunksize=10)  # You can adjust the chunk size as needed\n"
   ]
  },
  {
   "cell_type": "code",
   "execution_count": 12,
   "metadata": {},
   "outputs": [
    {
     "ename": "TypeError",
     "evalue": "object of type 'TextFileReader' has no len()",
     "output_type": "error",
     "traceback": [
      "\u001b[1;31m---------------------------------------------------------------------------\u001b[0m",
      "\u001b[1;31mTypeError\u001b[0m                                 Traceback (most recent call last)",
      "\u001b[1;32mc:\\Study\\CSE 4000\\New folder\\Thesis\\dataset\\New folder\\thesis sql_chicago_crime.ipynb Cell 3\u001b[0m line \u001b[0;36m1\n\u001b[1;32m----> <a href='vscode-notebook-cell:/c%3A/Study/CSE%204000/New%20folder/Thesis/dataset/New%20folder/thesis%20sql_chicago_crime.ipynb#W3sZmlsZQ%3D%3D?line=0'>1</a>\u001b[0m \u001b[39mprint\u001b[39m(\u001b[39mlen\u001b[39m(chunk_size))\n\u001b[0;32m      <a href='vscode-notebook-cell:/c%3A/Study/CSE%204000/New%20folder/Thesis/dataset/New%20folder/thesis%20sql_chicago_crime.ipynb#W3sZmlsZQ%3D%3D?line=1'>2</a>\u001b[0m table \u001b[39m=\u001b[39m create_table_from_csv(\u001b[39m'\u001b[39m\u001b[39mC://Study//CSE 4000//New folder//Thesis//dataset//New folder//20weather_data_sf_2004_2023.csv\u001b[39m\u001b[39m'\u001b[39m)\n\u001b[0;32m      <a href='vscode-notebook-cell:/c%3A/Study/CSE%204000/New%20folder/Thesis/dataset/New%20folder/thesis%20sql_chicago_crime.ipynb#W3sZmlsZQ%3D%3D?line=3'>4</a>\u001b[0m \u001b[39m# Insert data chunk by chunk\u001b[39;00m\n",
      "\u001b[1;31mTypeError\u001b[0m: object of type 'TextFileReader' has no len()"
     ]
    }
   ],
   "source": [
    "#print(len(chunk_size))\n",
    "table = create_table_from_csv('C://Study//CSE 4000//New folder//Thesis//dataset//New folder//20weather_data_sf_2004_2023.csv')\n",
    "\n",
    "# Insert data chunk by chunk\n",
    "for i, chunk in enumerate(chunk_size):\n",
    "    print(f\"Processing Chunk {i + 1} ...\")\n",
    "    \n",
    "    class EimuModel(Base):\n",
    "        __table__ = table\n",
    "    bulk_insert_data(EimuModel, chunk.to_dict(orient='records'))\n",
    "    print(f\"Chunk {i + 1} processed.\")\n",
    "    print(\"ekhane asi7\")\n",
    "\n",
    "print(\"All data inserted into the database.\")"
   ]
  }
 ],
 "metadata": {
  "kernelspec": {
   "display_name": "base",
   "language": "python",
   "name": "python3"
  },
  "language_info": {
   "codemirror_mode": {
    "name": "ipython",
    "version": 3
   },
   "file_extension": ".py",
   "mimetype": "text/x-python",
   "name": "python",
   "nbconvert_exporter": "python",
   "pygments_lexer": "ipython3",
   "version": "3.11.5"
  }
 },
 "nbformat": 4,
 "nbformat_minor": 2
}

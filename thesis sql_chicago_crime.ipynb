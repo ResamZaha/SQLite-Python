{
 "cells": [
  {
   "cell_type": "code",
   "execution_count": 4,
   "metadata": {},
   "outputs": [],
   "source": [
    "from sqlalchemy import create_engine\n",
    "from sqlalchemy import text\n",
    "from sqlalchemy.orm import Session\n",
    "from sqlalchemy import MetaData\n",
    "from sqlalchemy import ForeignKey\n",
    "from sqlalchemy.orm import DeclarativeBase\n",
    "from sqlalchemy import insert\n",
    "from sqlalchemy import select\n",
    "from typing import List\n",
    "from typing import Optional\n",
    "from sqlalchemy.orm import Mapped\n",
    "from sqlalchemy.orm import mapped_column\n",
    "from sqlalchemy.orm import relationship\n",
    "import pandas as pd\n",
    "from sqlalchemy import create_engine, Table, Column, Integer,Float, String, MetaData\n",
    "from sqlalchemy.orm import Session\n"
   ]
  },
  {
   "cell_type": "code",
   "execution_count": 5,
   "metadata": {},
   "outputs": [],
   "source": [
    "engine = create_engine(\"sqlite+pysqlite:///C://Study//CSE 4000//New folder//Thesis//dataset//New folder//chicago.crime.db\", echo=False)\n"
   ]
  },
  {
   "cell_type": "code",
   "execution_count": 7,
   "metadata": {},
   "outputs": [
    {
     "ename": "OperationalError",
     "evalue": "(sqlite3.OperationalError) duplicate column name: ID\n[SQL: \nCREATE TABLE \"CrimeChicagoTable\" (\n\tid INTEGER NOT NULL, \n\t\"ID\" INTEGER, \n\t\"Case Number\" VARCHAR, \n\t\"Date\" VARCHAR, \n\t\"Block\" VARCHAR, \n\t\"IUCR\" VARCHAR, \n\t\"Primary Type\" VARCHAR, \n\t\"Description\" VARCHAR, \n\t\"Location Description\" VARCHAR, \n\t\"Arrest\" FLOAT, \n\t\"Domestic\" FLOAT, \n\t\"Beat\" INTEGER, \n\t\"District\" FLOAT, \n\t\"Ward\" FLOAT, \n\t\"Community Area\" FLOAT, \n\t\"FBI Code\" VARCHAR, \n\t\"X Coordinate\" FLOAT, \n\t\"Y Coordinate\" FLOAT, \n\t\"Year\" INTEGER, \n\t\"Updated On\" VARCHAR, \n\t\"Latitude\" FLOAT, \n\t\"Longitude\" FLOAT, \n\t\"Location\" VARCHAR, \n\tPRIMARY KEY (id)\n)\n\n]\n(Background on this error at: https://sqlalche.me/e/20/e3q8)",
     "output_type": "error",
     "traceback": [
      "\u001b[1;31m---------------------------------------------------------------------------\u001b[0m",
      "\u001b[1;31mOperationalError\u001b[0m                          Traceback (most recent call last)",
      "File \u001b[1;32mc:\\Anaconda\\Lib\\site-packages\\sqlalchemy\\engine\\base.py:1964\u001b[0m, in \u001b[0;36mConnection._exec_single_context\u001b[1;34m(self, dialect, context, statement, parameters)\u001b[0m\n\u001b[0;32m   1963\u001b[0m     \u001b[39mif\u001b[39;00m \u001b[39mnot\u001b[39;00m evt_handled:\n\u001b[1;32m-> 1964\u001b[0m         \u001b[39mself\u001b[39m\u001b[39m.\u001b[39mdialect\u001b[39m.\u001b[39mdo_execute(\n\u001b[0;32m   1965\u001b[0m             cursor, str_statement, effective_parameters, context\n\u001b[0;32m   1966\u001b[0m         )\n\u001b[0;32m   1968\u001b[0m \u001b[39mif\u001b[39;00m \u001b[39mself\u001b[39m\u001b[39m.\u001b[39m_has_events \u001b[39mor\u001b[39;00m \u001b[39mself\u001b[39m\u001b[39m.\u001b[39mengine\u001b[39m.\u001b[39m_has_events:\n",
      "File \u001b[1;32mc:\\Anaconda\\Lib\\site-packages\\sqlalchemy\\engine\\default.py:747\u001b[0m, in \u001b[0;36mDefaultDialect.do_execute\u001b[1;34m(self, cursor, statement, parameters, context)\u001b[0m\n\u001b[0;32m    746\u001b[0m \u001b[39mdef\u001b[39;00m \u001b[39mdo_execute\u001b[39m(\u001b[39mself\u001b[39m, cursor, statement, parameters, context\u001b[39m=\u001b[39m\u001b[39mNone\u001b[39;00m):\n\u001b[1;32m--> 747\u001b[0m     cursor\u001b[39m.\u001b[39mexecute(statement, parameters)\n",
      "\u001b[1;31mOperationalError\u001b[0m: duplicate column name: ID",
      "\nThe above exception was the direct cause of the following exception:\n",
      "\u001b[1;31mOperationalError\u001b[0m                          Traceback (most recent call last)",
      "\u001b[1;32mc:\\Study\\CSE 4000\\New folder\\Thesis\\dataset\\New folder\\thesis sql_chicago_crime.ipynb Cell 3\u001b[0m line \u001b[0;36m2\n\u001b[0;32m     <a href='vscode-notebook-cell:/c%3A/Study/CSE%204000/New%20folder/Thesis/dataset/New%20folder/thesis%20sql_chicago_crime.ipynb#W2sZmlsZQ%3D%3D?line=10'>11</a>\u001b[0m CrimeChicagoTable \u001b[39m=\u001b[39m Table(\n\u001b[0;32m     <a href='vscode-notebook-cell:/c%3A/Study/CSE%204000/New%20folder/Thesis/dataset/New%20folder/thesis%20sql_chicago_crime.ipynb#W2sZmlsZQ%3D%3D?line=11'>12</a>\u001b[0m     \u001b[39m'\u001b[39m\u001b[39mCrimeChicagoTable\u001b[39m\u001b[39m'\u001b[39m,\n\u001b[0;32m     <a href='vscode-notebook-cell:/c%3A/Study/CSE%204000/New%20folder/Thesis/dataset/New%20folder/thesis%20sql_chicago_crime.ipynb#W2sZmlsZQ%3D%3D?line=12'>13</a>\u001b[0m     metadata,\n\u001b[1;32m   (...)\u001b[0m\n\u001b[0;32m     <a href='vscode-notebook-cell:/c%3A/Study/CSE%204000/New%20folder/Thesis/dataset/New%20folder/thesis%20sql_chicago_crime.ipynb#W2sZmlsZQ%3D%3D?line=16'>17</a>\u001b[0m       Column(name, Float) \u001b[39mfor\u001b[39;00m name, dtype \u001b[39min\u001b[39;00m column_data_types\u001b[39m.\u001b[39mitems()]\n\u001b[0;32m     <a href='vscode-notebook-cell:/c%3A/Study/CSE%204000/New%20folder/Thesis/dataset/New%20folder/thesis%20sql_chicago_crime.ipynb#W2sZmlsZQ%3D%3D?line=17'>18</a>\u001b[0m )\n\u001b[0;32m     <a href='vscode-notebook-cell:/c%3A/Study/CSE%204000/New%20folder/Thesis/dataset/New%20folder/thesis%20sql_chicago_crime.ipynb#W2sZmlsZQ%3D%3D?line=19'>20</a>\u001b[0m \u001b[39m# Create the table in the database\u001b[39;00m\n\u001b[1;32m---> <a href='vscode-notebook-cell:/c%3A/Study/CSE%204000/New%20folder/Thesis/dataset/New%20folder/thesis%20sql_chicago_crime.ipynb#W2sZmlsZQ%3D%3D?line=20'>21</a>\u001b[0m metadata\u001b[39m.\u001b[39mcreate_all(engine)\n\u001b[0;32m     <a href='vscode-notebook-cell:/c%3A/Study/CSE%204000/New%20folder/Thesis/dataset/New%20folder/thesis%20sql_chicago_crime.ipynb#W2sZmlsZQ%3D%3D?line=22'>23</a>\u001b[0m \u001b[39m# Start a session\u001b[39;00m\n\u001b[0;32m     <a href='vscode-notebook-cell:/c%3A/Study/CSE%204000/New%20folder/Thesis/dataset/New%20folder/thesis%20sql_chicago_crime.ipynb#W2sZmlsZQ%3D%3D?line=23'>24</a>\u001b[0m session \u001b[39m=\u001b[39m Session(engine)\n",
      "File \u001b[1;32mc:\\Anaconda\\Lib\\site-packages\\sqlalchemy\\sql\\schema.py:5558\u001b[0m, in \u001b[0;36mMetaData.create_all\u001b[1;34m(self, bind, tables, checkfirst)\u001b[0m\n\u001b[0;32m   5534\u001b[0m \u001b[39mdef\u001b[39;00m \u001b[39mcreate_all\u001b[39m(\n\u001b[0;32m   5535\u001b[0m     \u001b[39mself\u001b[39m,\n\u001b[0;32m   5536\u001b[0m     bind: _CreateDropBind,\n\u001b[0;32m   5537\u001b[0m     tables: Optional[_typing_Sequence[Table]] \u001b[39m=\u001b[39m \u001b[39mNone\u001b[39;00m,\n\u001b[0;32m   5538\u001b[0m     checkfirst: \u001b[39mbool\u001b[39m \u001b[39m=\u001b[39m \u001b[39mTrue\u001b[39;00m,\n\u001b[0;32m   5539\u001b[0m ) \u001b[39m-\u001b[39m\u001b[39m>\u001b[39m \u001b[39mNone\u001b[39;00m:\n\u001b[0;32m   5540\u001b[0m \u001b[39m    \u001b[39m\u001b[39m\"\"\"Create all tables stored in this metadata.\u001b[39;00m\n\u001b[0;32m   5541\u001b[0m \n\u001b[0;32m   5542\u001b[0m \u001b[39m    Conditional by default, will not attempt to recreate tables already\u001b[39;00m\n\u001b[1;32m   (...)\u001b[0m\n\u001b[0;32m   5556\u001b[0m \n\u001b[0;32m   5557\u001b[0m \u001b[39m    \"\"\"\u001b[39;00m\n\u001b[1;32m-> 5558\u001b[0m     bind\u001b[39m.\u001b[39m_run_ddl_visitor(\n\u001b[0;32m   5559\u001b[0m         ddl\u001b[39m.\u001b[39mSchemaGenerator, \u001b[39mself\u001b[39m, checkfirst\u001b[39m=\u001b[39mcheckfirst, tables\u001b[39m=\u001b[39mtables\n\u001b[0;32m   5560\u001b[0m     )\n",
      "File \u001b[1;32mc:\\Anaconda\\Lib\\site-packages\\sqlalchemy\\engine\\base.py:3220\u001b[0m, in \u001b[0;36mEngine._run_ddl_visitor\u001b[1;34m(self, visitorcallable, element, **kwargs)\u001b[0m\n\u001b[0;32m   3213\u001b[0m \u001b[39mdef\u001b[39;00m \u001b[39m_run_ddl_visitor\u001b[39m(\n\u001b[0;32m   3214\u001b[0m     \u001b[39mself\u001b[39m,\n\u001b[0;32m   3215\u001b[0m     visitorcallable: Type[Union[SchemaGenerator, SchemaDropper]],\n\u001b[0;32m   3216\u001b[0m     element: SchemaItem,\n\u001b[0;32m   3217\u001b[0m     \u001b[39m*\u001b[39m\u001b[39m*\u001b[39mkwargs: Any,\n\u001b[0;32m   3218\u001b[0m ) \u001b[39m-\u001b[39m\u001b[39m>\u001b[39m \u001b[39mNone\u001b[39;00m:\n\u001b[0;32m   3219\u001b[0m     \u001b[39mwith\u001b[39;00m \u001b[39mself\u001b[39m\u001b[39m.\u001b[39mbegin() \u001b[39mas\u001b[39;00m conn:\n\u001b[1;32m-> 3220\u001b[0m         conn\u001b[39m.\u001b[39m_run_ddl_visitor(visitorcallable, element, \u001b[39m*\u001b[39m\u001b[39m*\u001b[39mkwargs)\n",
      "File \u001b[1;32mc:\\Anaconda\\Lib\\site-packages\\sqlalchemy\\engine\\base.py:2427\u001b[0m, in \u001b[0;36mConnection._run_ddl_visitor\u001b[1;34m(self, visitorcallable, element, **kwargs)\u001b[0m\n\u001b[0;32m   2415\u001b[0m \u001b[39mdef\u001b[39;00m \u001b[39m_run_ddl_visitor\u001b[39m(\n\u001b[0;32m   2416\u001b[0m     \u001b[39mself\u001b[39m,\n\u001b[0;32m   2417\u001b[0m     visitorcallable: Type[Union[SchemaGenerator, SchemaDropper]],\n\u001b[0;32m   2418\u001b[0m     element: SchemaItem,\n\u001b[0;32m   2419\u001b[0m     \u001b[39m*\u001b[39m\u001b[39m*\u001b[39mkwargs: Any,\n\u001b[0;32m   2420\u001b[0m ) \u001b[39m-\u001b[39m\u001b[39m>\u001b[39m \u001b[39mNone\u001b[39;00m:\n\u001b[0;32m   2421\u001b[0m \u001b[39m    \u001b[39m\u001b[39m\"\"\"run a DDL visitor.\u001b[39;00m\n\u001b[0;32m   2422\u001b[0m \n\u001b[0;32m   2423\u001b[0m \u001b[39m    This method is only here so that the MockConnection can change the\u001b[39;00m\n\u001b[0;32m   2424\u001b[0m \u001b[39m    options given to the visitor so that \"checkfirst\" is skipped.\u001b[39;00m\n\u001b[0;32m   2425\u001b[0m \n\u001b[0;32m   2426\u001b[0m \u001b[39m    \"\"\"\u001b[39;00m\n\u001b[1;32m-> 2427\u001b[0m     visitorcallable(\u001b[39mself\u001b[39m\u001b[39m.\u001b[39mdialect, \u001b[39mself\u001b[39m, \u001b[39m*\u001b[39m\u001b[39m*\u001b[39mkwargs)\u001b[39m.\u001b[39mtraverse_single(element)\n",
      "File \u001b[1;32mc:\\Anaconda\\Lib\\site-packages\\sqlalchemy\\sql\\visitors.py:677\u001b[0m, in \u001b[0;36mExternalTraversal.traverse_single\u001b[1;34m(self, obj, **kw)\u001b[0m\n\u001b[0;32m    675\u001b[0m meth \u001b[39m=\u001b[39m \u001b[39mgetattr\u001b[39m(v, \u001b[39m\"\u001b[39m\u001b[39mvisit_\u001b[39m\u001b[39m%s\u001b[39;00m\u001b[39m\"\u001b[39m \u001b[39m%\u001b[39m obj\u001b[39m.\u001b[39m__visit_name__, \u001b[39mNone\u001b[39;00m)\n\u001b[0;32m    676\u001b[0m \u001b[39mif\u001b[39;00m meth:\n\u001b[1;32m--> 677\u001b[0m     \u001b[39mreturn\u001b[39;00m meth(obj, \u001b[39m*\u001b[39m\u001b[39m*\u001b[39mkw)\n",
      "File \u001b[1;32mc:\\Anaconda\\Lib\\site-packages\\sqlalchemy\\sql\\ddl.py:928\u001b[0m, in \u001b[0;36mSchemaGenerator.visit_metadata\u001b[1;34m(self, metadata)\u001b[0m\n\u001b[0;32m    926\u001b[0m \u001b[39mfor\u001b[39;00m table, fkcs \u001b[39min\u001b[39;00m collection:\n\u001b[0;32m    927\u001b[0m     \u001b[39mif\u001b[39;00m table \u001b[39mis\u001b[39;00m \u001b[39mnot\u001b[39;00m \u001b[39mNone\u001b[39;00m:\n\u001b[1;32m--> 928\u001b[0m         \u001b[39mself\u001b[39m\u001b[39m.\u001b[39mtraverse_single(\n\u001b[0;32m    929\u001b[0m             table,\n\u001b[0;32m    930\u001b[0m             create_ok\u001b[39m=\u001b[39m\u001b[39mTrue\u001b[39;00m,\n\u001b[0;32m    931\u001b[0m             include_foreign_key_constraints\u001b[39m=\u001b[39mfkcs,\n\u001b[0;32m    932\u001b[0m             _is_metadata_operation\u001b[39m=\u001b[39m\u001b[39mTrue\u001b[39;00m,\n\u001b[0;32m    933\u001b[0m         )\n\u001b[0;32m    934\u001b[0m     \u001b[39melse\u001b[39;00m:\n\u001b[0;32m    935\u001b[0m         \u001b[39mfor\u001b[39;00m fkc \u001b[39min\u001b[39;00m fkcs:\n",
      "File \u001b[1;32mc:\\Anaconda\\Lib\\site-packages\\sqlalchemy\\sql\\visitors.py:677\u001b[0m, in \u001b[0;36mExternalTraversal.traverse_single\u001b[1;34m(self, obj, **kw)\u001b[0m\n\u001b[0;32m    675\u001b[0m meth \u001b[39m=\u001b[39m \u001b[39mgetattr\u001b[39m(v, \u001b[39m\"\u001b[39m\u001b[39mvisit_\u001b[39m\u001b[39m%s\u001b[39;00m\u001b[39m\"\u001b[39m \u001b[39m%\u001b[39m obj\u001b[39m.\u001b[39m__visit_name__, \u001b[39mNone\u001b[39;00m)\n\u001b[0;32m    676\u001b[0m \u001b[39mif\u001b[39;00m meth:\n\u001b[1;32m--> 677\u001b[0m     \u001b[39mreturn\u001b[39;00m meth(obj, \u001b[39m*\u001b[39m\u001b[39m*\u001b[39mkw)\n",
      "File \u001b[1;32mc:\\Anaconda\\Lib\\site-packages\\sqlalchemy\\sql\\ddl.py:967\u001b[0m, in \u001b[0;36mSchemaGenerator.visit_table\u001b[1;34m(self, table, create_ok, include_foreign_key_constraints, _is_metadata_operation)\u001b[0m\n\u001b[0;32m    958\u001b[0m \u001b[39mif\u001b[39;00m \u001b[39mnot\u001b[39;00m \u001b[39mself\u001b[39m\u001b[39m.\u001b[39mdialect\u001b[39m.\u001b[39msupports_alter:\n\u001b[0;32m    959\u001b[0m     \u001b[39m# e.g., don't omit any foreign key constraints\u001b[39;00m\n\u001b[0;32m    960\u001b[0m     include_foreign_key_constraints \u001b[39m=\u001b[39m \u001b[39mNone\u001b[39;00m\n\u001b[0;32m    962\u001b[0m CreateTable(\n\u001b[0;32m    963\u001b[0m     table,\n\u001b[0;32m    964\u001b[0m     include_foreign_key_constraints\u001b[39m=\u001b[39m(\n\u001b[0;32m    965\u001b[0m         include_foreign_key_constraints\n\u001b[0;32m    966\u001b[0m     ),\n\u001b[1;32m--> 967\u001b[0m )\u001b[39m.\u001b[39m_invoke_with(\u001b[39mself\u001b[39m\u001b[39m.\u001b[39mconnection)\n\u001b[0;32m    969\u001b[0m \u001b[39mif\u001b[39;00m \u001b[39mhasattr\u001b[39m(table, \u001b[39m\"\u001b[39m\u001b[39mindexes\u001b[39m\u001b[39m\"\u001b[39m):\n\u001b[0;32m    970\u001b[0m     \u001b[39mfor\u001b[39;00m index \u001b[39min\u001b[39;00m table\u001b[39m.\u001b[39mindexes:\n",
      "File \u001b[1;32mc:\\Anaconda\\Lib\\site-packages\\sqlalchemy\\sql\\ddl.py:321\u001b[0m, in \u001b[0;36mExecutableDDLElement._invoke_with\u001b[1;34m(self, bind)\u001b[0m\n\u001b[0;32m    319\u001b[0m \u001b[39mdef\u001b[39;00m \u001b[39m_invoke_with\u001b[39m(\u001b[39mself\u001b[39m, bind):\n\u001b[0;32m    320\u001b[0m     \u001b[39mif\u001b[39;00m \u001b[39mself\u001b[39m\u001b[39m.\u001b[39m_should_execute(\u001b[39mself\u001b[39m\u001b[39m.\u001b[39mtarget, bind):\n\u001b[1;32m--> 321\u001b[0m         \u001b[39mreturn\u001b[39;00m bind\u001b[39m.\u001b[39mexecute(\u001b[39mself\u001b[39m)\n",
      "File \u001b[1;32mc:\\Anaconda\\Lib\\site-packages\\sqlalchemy\\engine\\base.py:1414\u001b[0m, in \u001b[0;36mConnection.execute\u001b[1;34m(self, statement, parameters, execution_options)\u001b[0m\n\u001b[0;32m   1412\u001b[0m     \u001b[39mraise\u001b[39;00m exc\u001b[39m.\u001b[39mObjectNotExecutableError(statement) \u001b[39mfrom\u001b[39;00m \u001b[39merr\u001b[39;00m\n\u001b[0;32m   1413\u001b[0m \u001b[39melse\u001b[39;00m:\n\u001b[1;32m-> 1414\u001b[0m     \u001b[39mreturn\u001b[39;00m meth(\n\u001b[0;32m   1415\u001b[0m         \u001b[39mself\u001b[39m,\n\u001b[0;32m   1416\u001b[0m         distilled_parameters,\n\u001b[0;32m   1417\u001b[0m         execution_options \u001b[39mor\u001b[39;00m NO_OPTIONS,\n\u001b[0;32m   1418\u001b[0m     )\n",
      "File \u001b[1;32mc:\\Anaconda\\Lib\\site-packages\\sqlalchemy\\sql\\ddl.py:185\u001b[0m, in \u001b[0;36mExecutableDDLElement._execute_on_connection\u001b[1;34m(self, connection, distilled_params, execution_options)\u001b[0m\n\u001b[0;32m    182\u001b[0m \u001b[39mdef\u001b[39;00m \u001b[39m_execute_on_connection\u001b[39m(\n\u001b[0;32m    183\u001b[0m     \u001b[39mself\u001b[39m, connection, distilled_params, execution_options\n\u001b[0;32m    184\u001b[0m ):\n\u001b[1;32m--> 185\u001b[0m     \u001b[39mreturn\u001b[39;00m connection\u001b[39m.\u001b[39m_execute_ddl(\n\u001b[0;32m    186\u001b[0m         \u001b[39mself\u001b[39m, distilled_params, execution_options\n\u001b[0;32m    187\u001b[0m     )\n",
      "File \u001b[1;32mc:\\Anaconda\\Lib\\site-packages\\sqlalchemy\\engine\\base.py:1526\u001b[0m, in \u001b[0;36mConnection._execute_ddl\u001b[1;34m(self, ddl, distilled_parameters, execution_options)\u001b[0m\n\u001b[0;32m   1521\u001b[0m dialect \u001b[39m=\u001b[39m \u001b[39mself\u001b[39m\u001b[39m.\u001b[39mdialect\n\u001b[0;32m   1523\u001b[0m compiled \u001b[39m=\u001b[39m ddl\u001b[39m.\u001b[39mcompile(\n\u001b[0;32m   1524\u001b[0m     dialect\u001b[39m=\u001b[39mdialect, schema_translate_map\u001b[39m=\u001b[39mschema_translate_map\n\u001b[0;32m   1525\u001b[0m )\n\u001b[1;32m-> 1526\u001b[0m ret \u001b[39m=\u001b[39m \u001b[39mself\u001b[39m\u001b[39m.\u001b[39m_execute_context(\n\u001b[0;32m   1527\u001b[0m     dialect,\n\u001b[0;32m   1528\u001b[0m     dialect\u001b[39m.\u001b[39mexecution_ctx_cls\u001b[39m.\u001b[39m_init_ddl,\n\u001b[0;32m   1529\u001b[0m     compiled,\n\u001b[0;32m   1530\u001b[0m     \u001b[39mNone\u001b[39;00m,\n\u001b[0;32m   1531\u001b[0m     execution_options,\n\u001b[0;32m   1532\u001b[0m     compiled,\n\u001b[0;32m   1533\u001b[0m )\n\u001b[0;32m   1534\u001b[0m \u001b[39mif\u001b[39;00m \u001b[39mself\u001b[39m\u001b[39m.\u001b[39m_has_events \u001b[39mor\u001b[39;00m \u001b[39mself\u001b[39m\u001b[39m.\u001b[39mengine\u001b[39m.\u001b[39m_has_events:\n\u001b[0;32m   1535\u001b[0m     \u001b[39mself\u001b[39m\u001b[39m.\u001b[39mdispatch\u001b[39m.\u001b[39mafter_execute(\n\u001b[0;32m   1536\u001b[0m         \u001b[39mself\u001b[39m,\n\u001b[0;32m   1537\u001b[0m         ddl,\n\u001b[1;32m   (...)\u001b[0m\n\u001b[0;32m   1541\u001b[0m         ret,\n\u001b[0;32m   1542\u001b[0m     )\n",
      "File \u001b[1;32mc:\\Anaconda\\Lib\\site-packages\\sqlalchemy\\engine\\base.py:1842\u001b[0m, in \u001b[0;36mConnection._execute_context\u001b[1;34m(self, dialect, constructor, statement, parameters, execution_options, *args, **kw)\u001b[0m\n\u001b[0;32m   1837\u001b[0m     \u001b[39mreturn\u001b[39;00m \u001b[39mself\u001b[39m\u001b[39m.\u001b[39m_exec_insertmany_context(\n\u001b[0;32m   1838\u001b[0m         dialect,\n\u001b[0;32m   1839\u001b[0m         context,\n\u001b[0;32m   1840\u001b[0m     )\n\u001b[0;32m   1841\u001b[0m \u001b[39melse\u001b[39;00m:\n\u001b[1;32m-> 1842\u001b[0m     \u001b[39mreturn\u001b[39;00m \u001b[39mself\u001b[39m\u001b[39m.\u001b[39m_exec_single_context(\n\u001b[0;32m   1843\u001b[0m         dialect, context, statement, parameters\n\u001b[0;32m   1844\u001b[0m     )\n",
      "File \u001b[1;32mc:\\Anaconda\\Lib\\site-packages\\sqlalchemy\\engine\\base.py:1983\u001b[0m, in \u001b[0;36mConnection._exec_single_context\u001b[1;34m(self, dialect, context, statement, parameters)\u001b[0m\n\u001b[0;32m   1980\u001b[0m     result \u001b[39m=\u001b[39m context\u001b[39m.\u001b[39m_setup_result_proxy()\n\u001b[0;32m   1982\u001b[0m \u001b[39mexcept\u001b[39;00m \u001b[39mBaseException\u001b[39;00m \u001b[39mas\u001b[39;00m e:\n\u001b[1;32m-> 1983\u001b[0m     \u001b[39mself\u001b[39m\u001b[39m.\u001b[39m_handle_dbapi_exception(\n\u001b[0;32m   1984\u001b[0m         e, str_statement, effective_parameters, cursor, context\n\u001b[0;32m   1985\u001b[0m     )\n\u001b[0;32m   1987\u001b[0m \u001b[39mreturn\u001b[39;00m result\n",
      "File \u001b[1;32mc:\\Anaconda\\Lib\\site-packages\\sqlalchemy\\engine\\base.py:2325\u001b[0m, in \u001b[0;36mConnection._handle_dbapi_exception\u001b[1;34m(self, e, statement, parameters, cursor, context, is_sub_exec)\u001b[0m\n\u001b[0;32m   2323\u001b[0m \u001b[39melif\u001b[39;00m should_wrap:\n\u001b[0;32m   2324\u001b[0m     \u001b[39massert\u001b[39;00m sqlalchemy_exception \u001b[39mis\u001b[39;00m \u001b[39mnot\u001b[39;00m \u001b[39mNone\u001b[39;00m\n\u001b[1;32m-> 2325\u001b[0m     \u001b[39mraise\u001b[39;00m sqlalchemy_exception\u001b[39m.\u001b[39mwith_traceback(exc_info[\u001b[39m2\u001b[39m]) \u001b[39mfrom\u001b[39;00m \u001b[39me\u001b[39;00m\n\u001b[0;32m   2326\u001b[0m \u001b[39melse\u001b[39;00m:\n\u001b[0;32m   2327\u001b[0m     \u001b[39massert\u001b[39;00m exc_info[\u001b[39m1\u001b[39m] \u001b[39mis\u001b[39;00m \u001b[39mnot\u001b[39;00m \u001b[39mNone\u001b[39;00m\n",
      "File \u001b[1;32mc:\\Anaconda\\Lib\\site-packages\\sqlalchemy\\engine\\base.py:1964\u001b[0m, in \u001b[0;36mConnection._exec_single_context\u001b[1;34m(self, dialect, context, statement, parameters)\u001b[0m\n\u001b[0;32m   1962\u001b[0m                 \u001b[39mbreak\u001b[39;00m\n\u001b[0;32m   1963\u001b[0m     \u001b[39mif\u001b[39;00m \u001b[39mnot\u001b[39;00m evt_handled:\n\u001b[1;32m-> 1964\u001b[0m         \u001b[39mself\u001b[39m\u001b[39m.\u001b[39mdialect\u001b[39m.\u001b[39mdo_execute(\n\u001b[0;32m   1965\u001b[0m             cursor, str_statement, effective_parameters, context\n\u001b[0;32m   1966\u001b[0m         )\n\u001b[0;32m   1968\u001b[0m \u001b[39mif\u001b[39;00m \u001b[39mself\u001b[39m\u001b[39m.\u001b[39m_has_events \u001b[39mor\u001b[39;00m \u001b[39mself\u001b[39m\u001b[39m.\u001b[39mengine\u001b[39m.\u001b[39m_has_events:\n\u001b[0;32m   1969\u001b[0m     \u001b[39mself\u001b[39m\u001b[39m.\u001b[39mdispatch\u001b[39m.\u001b[39mafter_cursor_execute(\n\u001b[0;32m   1970\u001b[0m         \u001b[39mself\u001b[39m,\n\u001b[0;32m   1971\u001b[0m         cursor,\n\u001b[1;32m   (...)\u001b[0m\n\u001b[0;32m   1975\u001b[0m         context\u001b[39m.\u001b[39mexecutemany,\n\u001b[0;32m   1976\u001b[0m     )\n",
      "File \u001b[1;32mc:\\Anaconda\\Lib\\site-packages\\sqlalchemy\\engine\\default.py:747\u001b[0m, in \u001b[0;36mDefaultDialect.do_execute\u001b[1;34m(self, cursor, statement, parameters, context)\u001b[0m\n\u001b[0;32m    746\u001b[0m \u001b[39mdef\u001b[39;00m \u001b[39mdo_execute\u001b[39m(\u001b[39mself\u001b[39m, cursor, statement, parameters, context\u001b[39m=\u001b[39m\u001b[39mNone\u001b[39;00m):\n\u001b[1;32m--> 747\u001b[0m     cursor\u001b[39m.\u001b[39mexecute(statement, parameters)\n",
      "\u001b[1;31mOperationalError\u001b[0m: (sqlite3.OperationalError) duplicate column name: ID\n[SQL: \nCREATE TABLE \"CrimeChicagoTable\" (\n\tid INTEGER NOT NULL, \n\t\"ID\" INTEGER, \n\t\"Case Number\" VARCHAR, \n\t\"Date\" VARCHAR, \n\t\"Block\" VARCHAR, \n\t\"IUCR\" VARCHAR, \n\t\"Primary Type\" VARCHAR, \n\t\"Description\" VARCHAR, \n\t\"Location Description\" VARCHAR, \n\t\"Arrest\" FLOAT, \n\t\"Domestic\" FLOAT, \n\t\"Beat\" INTEGER, \n\t\"District\" FLOAT, \n\t\"Ward\" FLOAT, \n\t\"Community Area\" FLOAT, \n\t\"FBI Code\" VARCHAR, \n\t\"X Coordinate\" FLOAT, \n\t\"Y Coordinate\" FLOAT, \n\t\"Year\" INTEGER, \n\t\"Updated On\" VARCHAR, \n\t\"Latitude\" FLOAT, \n\t\"Longitude\" FLOAT, \n\t\"Location\" VARCHAR, \n\tPRIMARY KEY (id)\n)\n\n]\n(Background on this error at: https://sqlalche.me/e/20/e3q8)"
     ]
    }
   ],
   "source": [
    "# Load data using Pandas (replace 'your_data.csv' with your dataset file)\n",
    "data = pd.read_csv('C://Study//CSE 4000//New folder//Thesis//dataset//Crimes_-_2001_to_Present.csv')\n",
    "\n",
    "# Get the column names and data types from the CSV\n",
    "column_names = data.columns\n",
    "column_data_types = {col: data[col].dtype for col in column_names}\n",
    "\n",
    "# Create a new MetaData object and a users table based on the column names and data types\n",
    "metadata = MetaData()\n",
    "\n",
    "CrimeChicagoTable = Table(\n",
    "    'CrimeChicagoTable',\n",
    "    metadata,\n",
    "    Column('id', Integer, primary_key=True),\n",
    "    *[Column(name, String) if dtype == 'object' else\n",
    "      Column(name, Integer) if dtype == 'int64' else\n",
    "      Column(name, Float) for name, dtype in column_data_types.items()]\n",
    ")\n",
    "\n",
    "# Create the table in the database\n",
    "metadata.create_all(engine)\n",
    "\n",
    "# Start a session\n",
    "session = Session(engine)\n",
    "\n",
    "# Loop through the data and insert into the table, skipping rows with null values\n",
    "for _, row in data.iterrows():\n",
    "    datarow = {name: row[name] for name in column_names if not pd.isna(row[name])}\n",
    "    session.execute(CrimeChicagoTable.insert().values(datarow))\n",
    "    session.commit()\n"
   ]
  },
  {
   "cell_type": "code",
   "execution_count": null,
   "metadata": {},
   "outputs": [],
   "source": [
    "# SELECT the first few rows with column names\n",
    "query = CrimeChicagoTable.select().limit(5)  # You can adjust the limit as needed\n",
    "result = session.execute(query)\n",
    "\n",
    "# Get the column names and the data\n",
    "column_names = result.keys()\n",
    "data = result.fetchall()\n",
    "\n",
    "# Print the column names\n",
    "print(column_names)\n",
    "\n",
    "# Print the first few rows of data\n",
    "for row in data:\n",
    "    print(row)\n",
    "\n",
    "# Close the session\n",
    "#session.close()\n",
    "\n",
    "# Commit changes\n",
    "session.commit()"
   ]
  }
 ],
 "metadata": {
  "kernelspec": {
   "display_name": "base",
   "language": "python",
   "name": "python3"
  },
  "language_info": {
   "codemirror_mode": {
    "name": "ipython",
    "version": 3
   },
   "file_extension": ".py",
   "mimetype": "text/x-python",
   "name": "python",
   "nbconvert_exporter": "python",
   "pygments_lexer": "ipython3",
   "version": "3.11.5"
  }
 },
 "nbformat": 4,
 "nbformat_minor": 2
}

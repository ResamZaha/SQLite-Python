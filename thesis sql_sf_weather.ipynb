{
 "cells": [
  {
   "cell_type": "code",
   "execution_count": 5,
   "metadata": {},
   "outputs": [],
   "source": [
    "from sqlalchemy import create_engine\n",
    "from sqlalchemy import text\n",
    "from sqlalchemy.orm import Session\n",
    "from sqlalchemy import MetaData\n",
    "from sqlalchemy import ForeignKey\n",
    "from sqlalchemy.orm import DeclarativeBase\n",
    "from sqlalchemy import insert\n",
    "from sqlalchemy import select\n",
    "from typing import List\n",
    "from typing import Optional\n",
    "from sqlalchemy.orm import Mapped\n",
    "from sqlalchemy.orm import mapped_column\n",
    "from sqlalchemy.orm import relationship\n",
    "import pandas as pd\n",
    "from sqlalchemy import create_engine, Table, Column, Integer,Float, String, MetaData\n",
    "from sqlalchemy.orm import Session\n"
   ]
  },
  {
   "cell_type": "code",
   "execution_count": 6,
   "metadata": {},
   "outputs": [],
   "source": [
    "engine = create_engine(\"sqlite+pysqlite:///C://Study//CSE 4000//New folder//Thesis//dataset//New folder//weather.sf.db\", echo=False)\n"
   ]
  },
  {
   "cell_type": "code",
   "execution_count": 7,
   "metadata": {},
   "outputs": [],
   "source": [
    "# Load data using Pandas (replace 'your_data.csv' with your dataset file)\n",
    "data = pd.read_csv('C://Study//CSE 4000//New folder//Thesis//dataset//New folder//300weather_data_sf_2004_2023.csv')\n",
    "\n",
    "# Get the column names and data types from the CSV\n",
    "column_names = data.columns\n",
    "column_data_types = {col: data[col].dtype for col in column_names}\n",
    "\n",
    "# Create a new MetaData object and a users table based on the column names and data types\n",
    "metadata = MetaData()\n",
    "\n",
    "WeatherSFTable = Table(\n",
    "    'WeatherSFTable',\n",
    "    metadata,\n",
    "    Column('id', Integer, primary_key=True),\n",
    "    *[Column(name, String) if dtype == 'object' else\n",
    "      Column(name, Integer) if dtype == 'int64' else\n",
    "      Column(name, Float) for name, dtype in column_data_types.items()]\n",
    ")\n",
    "\n",
    "# Create the table in the database\n",
    "metadata.create_all(engine)\n",
    "\n",
    "# Start a session\n",
    "session = Session(engine)\n",
    "\n",
    "# Loop through the data and insert into the table, skipping rows with null values\n",
    "for _, row in data.iterrows():\n",
    "    datarow = {name: row[name] for name in column_names if not pd.isna(row[name])}\n",
    "    session.execute(WeatherSFTable.insert().values(datarow))\n",
    "    session.commit()\n"
   ]
  },
  {
   "cell_type": "code",
   "execution_count": 8,
   "metadata": {},
   "outputs": [
    {
     "name": "stdout",
     "output_type": "stream",
     "text": [
      "RMKeyView(['id', 'Unnamed: 0', 'expire_time_gmt', 'valid_time_gmt', 'temp', 'wx_phrase', 'heat_index', 'rh', 'pressure', 'vis', 'wc', 'wdir', 'wspd', 'max_temp', 'min_temp', 'expire_date_time', 'valid_date_time'])\n",
      "(1, 0, 1072950960, 1072943760, 12.0, 'Cloudy', 12.0, 80.0, 1013.64, 16.0, 12.0, 160.0, 22.0, 12.0, 7.0, '01/01/2004 16:00:00', '01/01/2004 14:00:00')\n",
      "(2, 1, 1072954560, 1072947360, 11.0, 'Cloudy', 11.0, 83.0, 1013.34, 12.0, 11.0, 150.0, 22.0, None, None, '01/01/2004 17:00:00', '01/01/2004 15:00:00')\n",
      "(3, 2, 1072958160, 1072950960, 11.0, 'Cloudy', 11.0, 89.0, 1012.84, 8.0, 11.0, 120.0, 20.0, None, None, '01/01/2004 18:00:00', '01/01/2004 16:00:00')\n",
      "(4, 3, 1072958640, 1072951440, 11.0, 'Cloudy', 11.0, 88.0, 1012.85, 6.0, 11.0, 120.0, 24.0, None, None, '01/01/2004 18:00:00', '01/01/2004 16:00:00')\n",
      "(5, 4, 1072961760, 1072954560, 11.0, 'Cloudy / Windy', 11.0, 86.0, 1012.94, 8.0, 11.0, 170.0, 33.0, None, None, '01/01/2004 19:00:00', '01/01/2004 17:00:00')\n"
     ]
    }
   ],
   "source": [
    "# SELECT the first few rows with column names\n",
    "query = WeatherSFTable.select().limit(5)  # You can adjust the limit as needed\n",
    "result = session.execute(query)\n",
    "\n",
    "# Get the column names and the data\n",
    "column_names = result.keys()\n",
    "data = result.fetchall()\n",
    "\n",
    "# Print the column names\n",
    "print(column_names)\n",
    "\n",
    "# Print the first few rows of data\n",
    "for row in data:\n",
    "    print(row)\n",
    "\n",
    "# Close the session\n",
    "#session.close()\n",
    "\n",
    "# Commit changes\n",
    "session.commit()"
   ]
  }
 ],
 "metadata": {
  "kernelspec": {
   "display_name": "base",
   "language": "python",
   "name": "python3"
  },
  "language_info": {
   "codemirror_mode": {
    "name": "ipython",
    "version": 3
   },
   "file_extension": ".py",
   "mimetype": "text/x-python",
   "name": "python",
   "nbconvert_exporter": "python",
   "pygments_lexer": "ipython3",
   "version": "3.11.5"
  }
 },
 "nbformat": 4,
 "nbformat_minor": 2
}

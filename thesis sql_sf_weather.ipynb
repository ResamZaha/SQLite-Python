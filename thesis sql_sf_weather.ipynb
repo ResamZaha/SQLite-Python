{
 "cells": [
  {
   "cell_type": "code",
   "execution_count": 1,
   "metadata": {},
   "outputs": [
    {
     "name": "stderr",
     "output_type": "stream",
     "text": [
      "C:\\Users\\Resam Zaha\\AppData\\Local\\Temp\\ipykernel_11788\\4064411039.py:9: MovedIn20Warning: The ``declarative_base()`` function is now available as sqlalchemy.orm.declarative_base(). (deprecated since: 2.0) (Background on SQLAlchemy 2.0 at: https://sqlalche.me/e/b8d9)\n",
      "  Base = declarative_base()\n"
     ]
    },
    {
     "name": "stdout",
     "output_type": "stream",
     "text": [
      "hello\n"
     ]
    }
   ],
   "source": [
    "import time\n",
    "from sqlalchemy.ext.declarative import declarative_base\n",
    "from sqlalchemy import Column, Integer, String, create_engine, Float\n",
    "from sqlalchemy.orm import scoped_session, sessionmaker\n",
    "import pandas as pd\n",
    "from sqlalchemy import Table\n",
    "import os\n",
    "\n",
    "Base = declarative_base()\n",
    "DBSession = scoped_session(sessionmaker())\n",
    "engine = None\n",
    "\n",
    "'''\n",
    "class WeatherSFTable(Base):\n",
    "    __tablename__ = 'eimuTable'\n",
    "    id = Column(Integer, primary_key=True)\n",
    "    Unnamed = Column(Integer, primary_key=False)\n",
    "    expire_date_time = Column(Integer, primary_key=False)    \n",
    "    valid_date_time = Column(Integer, primary_key=False)    \n",
    "    temp = Column(Float, primary_key=False)    \n",
    "    wx_phrase = Column(String, primary_key=False)    \n",
    "    heat_index = Column(Float, primary_key=False)    \n",
    "    rh = Column(Float, primary_key=False)    \n",
    "    pressure = Column(Float, primary_key=False)    \n",
    "    vis = Column(Float, primary_key=False)    \n",
    "    wc = Column(Float, primary_key=False)    \n",
    "    wdir = Column(Float, primary_key=False)    \n",
    "    wspd = Column(Float, primary_key=False)    \n",
    "    max_temp = Column(Float, primary_key=False)    \n",
    "    min_temp = Column(Float, primary_key=False)\n",
    "    expire_date_time = Column(String, primary_key=False)\n",
    "    valid_date_time = Column(String, primary_key=False)  \n",
    "    # Define columns matching your CSV data types\n",
    "    # Example: name = Column(String)\n",
    "    \n",
    "'''\n",
    "def init_sqlalchemy(dbname='sqlite:///sf.weather.db'):\n",
    "    global engine\n",
    "    engine = create_engine(dbname, echo=False)\n",
    "    DBSession.remove()\n",
    "    DBSession.configure(bind=engine, autoflush=False, expire_on_commit=False)\n",
    "    Base.metadata.drop_all(engine)\n",
    "    Base.metadata.create_all(engine)\n",
    "\n",
    "def load_data_from_csv(file_path):\n",
    "    data = pd.read_csv(file_path)\n",
    "    return data\n",
    "\n",
    "def create_table_from_csv(file_path):\n",
    "    data = load_data_from_csv(file_path)\n",
    "    metadata = Base.metadata\n",
    "    print('hello')\n",
    "    table_name = \"WeatherSFTable\"  # Specify the table name\n",
    "    WeatherSFTable = Table(\n",
    "        table_name,\n",
    "        metadata,\n",
    "        Column('id', Integer, primary_key=True)\n",
    "    )\n",
    "\n",
    "    for column_name, dtype in data.dtypes.items():\n",
    "        if dtype == 'int64':\n",
    "            column = Column(column_name, Integer)\n",
    "        elif dtype == 'float64':\n",
    "            column = Column(column_name, Float)\n",
    "        else:\n",
    "            column = Column(column_name, String)\n",
    "        WeatherSFTable.append_column(column)\n",
    "\n",
    "    metadata.create_all(engine)\n",
    "    return WeatherSFTable\n",
    "\n",
    "\n",
    "\n",
    "def bulk_insert_data(table, data):\n",
    "    DBSession.bulk_insert_mappings(table, data)\n",
    "    DBSession.commit()\n",
    "\n",
    "if __name__ == '__main__':\n",
    "    init_sqlalchemy()\n",
    "    \n",
    "    # Load data from CSV (replace 'your_data.csv' with your dataset file)\n",
    "    data = load_data_from_csv('C://Study//CSE 4000//New folder//Thesis//dataset//weather_data_sf_2004_2023.csv')\n",
    "    \n",
    "    # Create the table dynamically\n",
    "    table = create_table_from_csv('C://Study//CSE 4000//New folder//Thesis//dataset//weather_data_sf_2004_2023.csv')\n",
    "    class EimuModel(Base):\n",
    "        __table__ = table\n",
    "    # Perform bulk insert\n",
    "    bulk_insert_data(EimuModel, data.to_dict(orient='records'))"
   ]
  }
 ],
 "metadata": {
  "kernelspec": {
   "display_name": "base",
   "language": "python",
   "name": "python3"
  },
  "language_info": {
   "codemirror_mode": {
    "name": "ipython",
    "version": 3
   },
   "file_extension": ".py",
   "mimetype": "text/x-python",
   "name": "python",
   "nbconvert_exporter": "python",
   "pygments_lexer": "ipython3",
   "version": "3.11.5"
  }
 },
 "nbformat": 4,
 "nbformat_minor": 2
}

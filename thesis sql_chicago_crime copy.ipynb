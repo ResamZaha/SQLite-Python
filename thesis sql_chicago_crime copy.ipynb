{
 "cells": [
  {
   "cell_type": "code",
   "execution_count": 1,
   "metadata": {},
   "outputs": [
    {
     "name": "stderr",
     "output_type": "stream",
     "text": [
      "C:\\Users\\Resam Zaha\\AppData\\Local\\Temp\\ipykernel_13928\\1736909378.py:9: MovedIn20Warning: The ``declarative_base()`` function is now available as sqlalchemy.orm.declarative_base(). (deprecated since: 2.0) (Background on SQLAlchemy 2.0 at: https://sqlalche.me/e/b8d9)\n",
      "  Base = declarative_base()\n"
     ]
    },
    {
     "name": "stdout",
     "output_type": "stream",
     "text": [
      "ekhane asi1\n",
      "ekhane asi2\n",
      "ekhane asi6\n",
      "ekhane asi3\n",
      "hello\n",
      "ekhane asi4\n",
      "Processing Chunk 1 ...\n",
      "ekhane asi5\n",
      "Chunk 1 processed.\n",
      "ekhane asi7\n",
      "Processing Chunk 2 ...\n"
     ]
    },
    {
     "name": "stderr",
     "output_type": "stream",
     "text": [
      "C:\\Users\\Resam Zaha\\AppData\\Local\\Temp\\ipykernel_13928\\1736909378.py:71: SAWarning: This declarative base already contains a class with the same class name and module name as __main__.EimuModel, and will be replaced in the string-lookup table.\n",
      "  class EimuModel(Base):\n"
     ]
    },
    {
     "name": "stdout",
     "output_type": "stream",
     "text": [
      "ekhane asi5\n",
      "Chunk 2 processed.\n",
      "ekhane asi7\n",
      "Processing Chunk 3 ...\n"
     ]
    },
    {
     "name": "stderr",
     "output_type": "stream",
     "text": [
      "C:\\Users\\Resam Zaha\\AppData\\Local\\Temp\\ipykernel_13928\\1736909378.py:71: SAWarning: This declarative base already contains a class with the same class name and module name as __main__.EimuModel, and will be replaced in the string-lookup table.\n",
      "  class EimuModel(Base):\n"
     ]
    },
    {
     "name": "stdout",
     "output_type": "stream",
     "text": [
      "ekhane asi5\n",
      "Chunk 3 processed.\n",
      "ekhane asi7\n",
      "Processing Chunk 4 ...\n"
     ]
    },
    {
     "name": "stderr",
     "output_type": "stream",
     "text": [
      "C:\\Users\\Resam Zaha\\AppData\\Local\\Temp\\ipykernel_13928\\1736909378.py:71: SAWarning: This declarative base already contains a class with the same class name and module name as __main__.EimuModel, and will be replaced in the string-lookup table.\n",
      "  class EimuModel(Base):\n"
     ]
    },
    {
     "name": "stdout",
     "output_type": "stream",
     "text": [
      "ekhane asi5\n",
      "Chunk 4 processed.\n",
      "ekhane asi7\n",
      "Processing Chunk 5 ...\n"
     ]
    },
    {
     "name": "stderr",
     "output_type": "stream",
     "text": [
      "C:\\Users\\Resam Zaha\\AppData\\Local\\Temp\\ipykernel_13928\\1736909378.py:71: SAWarning: This declarative base already contains a class with the same class name and module name as __main__.EimuModel, and will be replaced in the string-lookup table.\n",
      "  class EimuModel(Base):\n"
     ]
    },
    {
     "name": "stdout",
     "output_type": "stream",
     "text": [
      "ekhane asi5\n",
      "Chunk 5 processed.\n",
      "ekhane asi7\n",
      "Processing Chunk 6 ...\n"
     ]
    },
    {
     "name": "stderr",
     "output_type": "stream",
     "text": [
      "C:\\Users\\Resam Zaha\\AppData\\Local\\Temp\\ipykernel_13928\\1736909378.py:71: SAWarning: This declarative base already contains a class with the same class name and module name as __main__.EimuModel, and will be replaced in the string-lookup table.\n",
      "  class EimuModel(Base):\n"
     ]
    },
    {
     "name": "stdout",
     "output_type": "stream",
     "text": [
      "ekhane asi5\n",
      "Chunk 6 processed.\n",
      "ekhane asi7\n",
      "Processing Chunk 7 ...\n"
     ]
    },
    {
     "name": "stderr",
     "output_type": "stream",
     "text": [
      "C:\\Users\\Resam Zaha\\AppData\\Local\\Temp\\ipykernel_13928\\1736909378.py:71: SAWarning: This declarative base already contains a class with the same class name and module name as __main__.EimuModel, and will be replaced in the string-lookup table.\n",
      "  class EimuModel(Base):\n"
     ]
    },
    {
     "name": "stdout",
     "output_type": "stream",
     "text": [
      "ekhane asi5\n",
      "Chunk 7 processed.\n",
      "ekhane asi7\n",
      "Processing Chunk 8 ...\n"
     ]
    },
    {
     "name": "stderr",
     "output_type": "stream",
     "text": [
      "C:\\Users\\Resam Zaha\\AppData\\Local\\Temp\\ipykernel_13928\\1736909378.py:71: SAWarning: This declarative base already contains a class with the same class name and module name as __main__.EimuModel, and will be replaced in the string-lookup table.\n",
      "  class EimuModel(Base):\n"
     ]
    },
    {
     "name": "stdout",
     "output_type": "stream",
     "text": [
      "ekhane asi5\n",
      "Chunk 8 processed.\n",
      "ekhane asi7\n",
      "All data inserted into the database.\n"
     ]
    }
   ],
   "source": [
    "import time\n",
    "import pandas as pd\n",
    "from sqlalchemy.ext.declarative import declarative_base\n",
    "from sqlalchemy import Column, Integer, String, create_engine, Float\n",
    "from sqlalchemy.orm import scoped_session, sessionmaker\n",
    "from sqlalchemy import Table\n",
    "import os\n",
    "\n",
    "Base = declarative_base()\n",
    "DBSession = scoped_session(sessionmaker())\n",
    "#engine = None\n",
    "print(\"ekhane asi1\")\n",
    "\n",
    "def init_sqlalchemy(dbname='sqlite:///chicago.crime.db'):\n",
    "    global engine\n",
    "    engine = create_engine(dbname, echo=False)\n",
    "    DBSession.remove()\n",
    "    DBSession.configure(bind=engine, autoflush=False, expire_on_commit=False)\n",
    "    Base.metadata.drop_all(engine)\n",
    "    Base.metadata.create_all(engine)\n",
    "    print(\"ekhane asi2\")\n",
    "\n",
    "def load_data_from_csv(file_path):\n",
    "    data = pd.read_csv(file_path)\n",
    "    print(\"ekhane asi3\")\n",
    "    return data\n",
    "\n",
    "def create_table_from_csv(file_path):\n",
    "    data = load_data_from_csv(file_path)\n",
    "    metadata = Base.metadata\n",
    "    print('hello')\n",
    "    table_name = \"ChicagoCrimeTable\"  # Specify the table name\n",
    "    ChicagoCrimeTable = Table(\n",
    "        table_name,\n",
    "        metadata,\n",
    "        Column('IDbySQL', Integer, primary_key=True)\n",
    "    )\n",
    "\n",
    "    for column_name, dtype in data.dtypes.items():\n",
    "        if dtype == 'int64':\n",
    "            column = Column(column_name, Integer)\n",
    "        elif dtype == 'float64':\n",
    "            column = Column(column_name, Float)\n",
    "        else:\n",
    "            column = Column(column_name, String)\n",
    "        ChicagoCrimeTable.append_column(column)\n",
    "\n",
    "    metadata.create_all(engine)\n",
    "    print(\"ekhane asi4\")\n",
    "    return ChicagoCrimeTable\n",
    "\n",
    "def bulk_insert_data(table, data):\n",
    "    DBSession.bulk_insert_mappings(table, data)\n",
    "    DBSession.commit()\n",
    "    print(\"ekhane asi5\")\n",
    "\n",
    "init_sqlalchemy()\n",
    "\n",
    "# Load data from CSV (replace 'your_data.csv' with your dataset file)\n",
    "csv_file_path = 'C://Study//CSE 4000//New folder//Thesis//dataset/Crimes_-_2001_to_Present.csv'\n",
    "print(\"ekhane asi6\")\n",
    "# Split the CSV into 5 parts\n",
    "chunk_size = pd.read_csv(csv_file_path, chunksize=1000000)  # You can adjust the chunk size as needed\n",
    "#print(len(chunk_size))\n",
    "table = create_table_from_csv('C://Study//CSE 4000//New folder//Thesis//dataset/Crimes_-_2001_to_Present.csv')\n",
    "\n",
    "# Insert data chunk by chunk\n",
    "for i, chunk in enumerate(chunk_size):\n",
    "    print(f\"Processing Chunk {i + 1} ...\")\n",
    "    \n",
    "    class EimuModel(Base):\n",
    "        __table__ = table\n",
    "    bulk_insert_data(EimuModel, chunk.to_dict(orient='records'))\n",
    "    print(f\"Chunk {i + 1} processed.\")\n",
    "    print(\"ekhane asi7\")\n",
    "\n",
    "print(\"All data inserted into the database.\")"
   ]
  }
 ],
 "metadata": {
  "kernelspec": {
   "display_name": "base",
   "language": "python",
   "name": "python3"
  },
  "language_info": {
   "codemirror_mode": {
    "name": "ipython",
    "version": 3
   },
   "file_extension": ".py",
   "mimetype": "text/x-python",
   "name": "python",
   "nbconvert_exporter": "python",
   "pygments_lexer": "ipython3",
   "version": "3.11.5"
  }
 },
 "nbformat": 4,
 "nbformat_minor": 2
}

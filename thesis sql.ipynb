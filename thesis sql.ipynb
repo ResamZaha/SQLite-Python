{
 "cells": [
  {
   "cell_type": "code",
   "execution_count": 1,
   "metadata": {},
   "outputs": [],
   "source": [
    "from sqlalchemy import create_engine\n",
    "from sqlalchemy import text\n",
    "from sqlalchemy.orm import Session\n",
    "from sqlalchemy import MetaData\n",
    "from sqlalchemy import ForeignKey\n",
    "from sqlalchemy.orm import DeclarativeBase\n",
    "from sqlalchemy import insert\n",
    "from sqlalchemy import select\n",
    "from typing import List\n",
    "from typing import Optional\n",
    "from sqlalchemy.orm import Mapped\n",
    "from sqlalchemy.orm import mapped_column\n",
    "from sqlalchemy.orm import relationship\n",
    "import pandas as pd\n",
    "from sqlalchemy import create_engine, Table, Column, Integer,Float, String, MetaData\n",
    "from sqlalchemy.orm import Session\n"
   ]
  },
  {
   "cell_type": "code",
   "execution_count": 10,
   "metadata": {},
   "outputs": [
    {
     "name": "stdout",
     "output_type": "stream",
     "text": [
      "Engine(sqlite+pysqlite:///D:\\SQLite-Python\\sf.weather.db)\n"
     ]
    }
   ],
   "source": [
    "engine = create_engine(\"sqlite+pysqlite:///D:\\\\SQLite-Python\\\\sf.weather.db\", echo=False)\n",
    "print(engine)"
   ]
  },
  {
   "cell_type": "code",
   "execution_count": 11,
   "metadata": {},
   "outputs": [],
   "source": [
    "# Load data using Pandas (replace 'your_data.csv' with your dataset file)\n",
    "data = pd.read_csv('weather_data_sf_2004_2023.csv')\n",
    "\n",
    "# Get the column names and data types from the CSV\n",
    "column_names = data.columns\n",
    "column_data_types = {col: data[col].dtype for col in column_names}\n",
    "\n",
    "# Create a new MetaData object and a users table based on the column names and data types\n",
    "metadata = MetaData()\n",
    "\n",
    "weathers = Table(\n",
    "    'weather',\n",
    "    metadata,\n",
    "    Column('id', Integer, primary_key=True),\n",
    "    *[Column(name, String) if dtype == 'object' else\n",
    "      Column(name, Integer) if dtype == 'int64' else\n",
    "      Column(name, Float) for name, dtype in column_data_types.items()]\n",
    ")\n",
    "\n",
    "# Create the table in the database\n",
    "metadata.create_all(engine)\n",
    "\n",
    "# Start a session\n",
    "session = Session(engine)\n",
    "\n",
    "# Loop through the data and insert into the table, skipping rows with null values\n",
    "for index, row in data.iterrows():\n",
    "    user = {name: row[name] for name in column_names if not pd.isna(row[name])}\n",
    "    session.execute(weathers.insert().values(user))\n",
    "    # Commit changes\n",
    "    session.commit()\n"
   ]
  },
  {
   "cell_type": "code",
   "execution_count": null,
   "metadata": {},
   "outputs": [],
   "source": [
    "\n",
    "# SELECT the first few rows with column names\n",
    "query = weathers.select().limit(5)  # You can adjust the limit as needed\n",
    "result = session.execute(query)\n",
    "\n",
    "# Get the column names and the data\n",
    "column_names = result.keys()\n",
    "data = result.fetchall()\n",
    "\n",
    "# Print the column names\n",
    "print(column_names)\n",
    "\n",
    "# Print the first few rows of data\n",
    "for row in data:\n",
    "    print(row)\n",
    "\n",
    "# Close the session\n",
    "session.close()\n",
    "\n"
   ]
  }
 ],
 "metadata": {
  "kernelspec": {
   "display_name": "base",
   "language": "python",
   "name": "python3"
  },
  "language_info": {
   "codemirror_mode": {
    "name": "ipython",
    "version": 3
   },
   "file_extension": ".py",
   "mimetype": "text/x-python",
   "name": "python",
   "nbconvert_exporter": "python",
   "pygments_lexer": "ipython3",
   "version": "3.11.5"
  }
 },
 "nbformat": 4,
 "nbformat_minor": 2
}

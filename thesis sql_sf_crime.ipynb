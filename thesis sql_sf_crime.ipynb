{
 "cells": [
  {
   "cell_type": "code",
   "execution_count": 1,
   "metadata": {},
   "outputs": [],
   "source": [
    "from sqlalchemy import create_engine\n",
    "from sqlalchemy import text\n",
    "from sqlalchemy.orm import Session\n",
    "from sqlalchemy import MetaData\n",
    "from sqlalchemy import ForeignKey\n",
    "from sqlalchemy.orm import DeclarativeBase\n",
    "from sqlalchemy import insert\n",
    "from sqlalchemy import select\n",
    "from typing import List\n",
    "from typing import Optional\n",
    "from sqlalchemy.orm import Mapped\n",
    "from sqlalchemy.orm import mapped_column\n",
    "from sqlalchemy.orm import relationship\n",
    "import pandas as pd\n",
    "from sqlalchemy import create_engine, Table, Column, Integer,Float, String, MetaData\n",
    "from sqlalchemy.orm import Session\n"
   ]
  },
  {
   "cell_type": "code",
   "execution_count": 2,
   "metadata": {},
   "outputs": [],
   "source": [
    "engine = create_engine(\"sqlite+pysqlite:///C://Study//CSE 4000//New folder//Thesis//dataset//New folder//sf.crime.db\", echo=False)\n"
   ]
  },
  {
   "cell_type": "code",
   "execution_count": 4,
   "metadata": {},
   "outputs": [],
   "source": [
    "# Load data using Pandas (replace 'your_data.csv' with your dataset file)\n",
    "data = pd.read_csv('C://Study//CSE 4000//New folder//Thesis//dataset//Police_Department_Incident_Reports__Historical_2003_to_May_2018.csv')\n",
    "\n",
    "# Get the column names and data types from the CSV\n",
    "column_names = data.columns\n",
    "column_data_types = {col: data[col].dtype for col in column_names}\n",
    "\n",
    "# Create a new MetaData object and a users table based on the column names and data types\n",
    "metadata = MetaData()\n",
    "\n",
    "CrimeSFTable = Table(\n",
    "    'CrimeSFTable',\n",
    "    metadata,\n",
    "    Column('id', Integer, primary_key=True),\n",
    "    *[Column(name, String) if dtype == 'object' else\n",
    "      Column(name, Integer) if dtype == 'int64' else\n",
    "      Column(name, Float) for name, dtype in column_data_types.items()]\n",
    ")\n",
    "\n",
    "# Create the table in the database\n",
    "metadata.create_all(engine)\n",
    "\n",
    "# Start a session\n",
    "session = Session(engine)\n",
    "\n",
    "# Loop through the data and insert into the table, skipping rows with null values\n",
    "for _, row in data.iterrows():\n",
    "    datarow = {name: row[name] for name in column_names if not pd.isna(row[name])}\n",
    "    session.execute(CrimeSFTable.insert().values(datarow))\n",
    "    session.commit()\n"
   ]
  },
  {
   "cell_type": "code",
   "execution_count": 5,
   "metadata": {},
   "outputs": [
    {
     "name": "stdout",
     "output_type": "stream",
     "text": [
      "RMKeyView(['id', 'PdId', 'IncidntNum', 'Incident Code', 'Category', 'Descript', 'DayOfWeek', 'Date', 'Time', 'PdDistrict', 'Resolution', 'Address', 'X', 'Y', 'location', 'SF Find Neighborhoods 2 2', 'Current Police Districts 2 2', 'Current Supervisor Districts 2 2', 'Analysis Neighborhoods 2 2', 'DELETE - Fire Prevention Districts 2 2', 'DELETE - Police Districts 2 2', 'DELETE - Supervisor Districts 2 2', 'DELETE - Zip Codes 2 2', 'DELETE - Neighborhoods 2 2', 'DELETE - 2017 Fix It Zones 2 2', 'Civic Center Harm Reduction Project Boundary 2 2', 'Fix It Zones as of 2017-11-06  2 2', 'DELETE - HSOC Zones 2 2', 'Fix It Zones as of 2018-02-07 2 2', 'CBD, BID and GBD Boundaries as of 2017 2 2', 'Areas of Vulnerability, 2016 2 2', 'Central Market/Tenderloin Boundary 2 2', 'Central Market/Tenderloin Boundary Polygon - Updated 2 2', 'HSOC Zones as of 2018-06-05 2 2', 'OWED Public Spaces 2 2', 'Neighborhoods 2'])\n",
      "(1, 4133422003074, 41334220, 3074, 'ROBBERY', 'ROBBERY, BODILY FORCE', 'Monday', '11/22/2004', '17:50', 'INGLESIDE', 'NONE', 'GENEVA AV / SANTOS ST', -122.420084075249, 37.7083109744362, 'POINT (-122.420084075249 37.7083109744362)', None, None, 9.0, None, None, None, 8.0, 309.0, None, None, None, None, None, None, None, None, None, None, None, None, None)\n",
      "(2, 5118535807021, 51185358, 7021, 'VEHICLE THEFT', 'STOLEN AUTOMOBILE', 'Tuesday', '10/18/2005', '20:00', 'PARK', 'NONE', 'TURK ST / STJOSEPHS AV', -120.5, 90.0, 'POINT (-120.50000000000001 90)', None, None, None, None, None, None, None, None, None, None, None, None, None, None, None, None, None, None, None, None, None)\n",
      "(3, 4018830907021, 40188309, 7021, 'VEHICLE THEFT', 'STOLEN AUTOMOBILE', 'Sunday', '02/15/2004', '02:00', 'SOUTHERN', 'NONE', 'BRANNAN ST / 1ST ST', -120.5, 90.0, 'POINT (-120.50000000000001 90)', None, None, None, None, None, None, None, None, None, None, None, None, None, None, None, None, None, None, None, None, None)\n",
      "(4, 11014543126030, 110145431, 26030, 'ARSON', 'ARSON', 'Friday', '02/18/2011', '05:27', 'INGLESIDE', 'NONE', '0 Block of SANJUAN AV', -122.43622001281, 37.7243766140428, 'POINT (-122.43622001281001 37.7243766140428)', 94.0, 9.0, 1.0, 28.0, 9.0, 7.0, 6.0, 28861.0, 25.0, None, None, None, None, None, None, 1.0, None, None, None, None, 94.0)\n",
      "(5, 10108108004134, 101081080, 4134, 'ASSAULT', 'BATTERY', 'Sunday', '11/21/2010', '17:00', 'SOUTHERN', 'NONE', '400 Block of 10TH ST', -122.410541166987, 37.7709130566165, 'POINT (-122.410541166987 37.7709130566165)', 32.0, 1.0, 10.0, 34.0, 8.0, 2.0, 9.0, 28853.0, 34.0, None, None, None, None, None, None, 2.0, None, None, None, None, 32.0)\n"
     ]
    }
   ],
   "source": [
    "# SELECT the first few rows with column names\n",
    "query = CrimeSFTable.select().limit(5)  # You can adjust the limit as needed\n",
    "result = session.execute(query)\n",
    "\n",
    "# Get the column names and the data\n",
    "column_names = result.keys()\n",
    "data = result.fetchall()\n",
    "\n",
    "# Print the column names\n",
    "print(column_names)\n",
    "\n",
    "# Print the first few rows of data\n",
    "for row in data:\n",
    "    print(row)\n",
    "\n",
    "# Close the session\n",
    "#session.close()\n",
    "\n",
    "# Commit changes\n",
    "session.commit()"
   ]
  }
 ],
 "metadata": {
  "kernelspec": {
   "display_name": "base",
   "language": "python",
   "name": "python3"
  },
  "language_info": {
   "codemirror_mode": {
    "name": "ipython",
    "version": 3
   },
   "file_extension": ".py",
   "mimetype": "text/x-python",
   "name": "python",
   "nbconvert_exporter": "python",
   "pygments_lexer": "ipython3",
   "version": "3.11.5"
  }
 },
 "nbformat": 4,
 "nbformat_minor": 2
}
